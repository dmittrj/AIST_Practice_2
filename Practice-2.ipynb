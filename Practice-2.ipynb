{
 "cells": [
  {
   "cell_type": "markdown",
   "metadata": {},
   "source": [
    "# Практическое задание 2\n",
    "\n",
    "**Построение графа друзей из VK**"
   ]
  },
  {
   "cell_type": "markdown",
   "metadata": {},
   "source": [
    "1. Создадим класс пользователя ВК (вершины графа). Пользователь задается двумя параметрами:\n",
    "\n",
    "- VK ID\n",
    "- Список друзей (их VK ID)"
   ]
  },
  {
   "cell_type": "code",
   "execution_count": 77,
   "metadata": {},
   "outputs": [],
   "source": [
    "class vk_user:\n",
    "    def __init__(self, vk_id, friends):\n",
    "        self.vk_id = vk_id\n",
    "        self.friends = friends"
   ]
  },
  {
   "cell_type": "markdown",
   "metadata": {},
   "source": [
    "Создадим список \"корневых\" пользователей (то есть друзей глубины 0):"
   ]
  },
  {
   "cell_type": "code",
   "execution_count": 78,
   "metadata": {},
   "outputs": [],
   "source": [
    "users = [vk_user(229180632, None)]"
   ]
  },
  {
   "cell_type": "markdown",
   "metadata": {},
   "source": [
    "По данному списку пройдемся дважды: в первый раз будут определены друзья для корневых пользователей, во второй раз - друзья их друзей."
   ]
  },
  {
   "cell_type": "code",
   "execution_count": 79,
   "metadata": {},
   "outputs": [],
   "source": [
    "import requests\n",
    "\n",
    "deep = 2\n",
    "for _ in range(deep):\n",
    "    new_users = []\n",
    "    for user in users:\n",
    "        if user.friends == None:\n",
    "            url = f'https://api.vk.com/method/friends.get?user_id={user.vk_id}&&v=5.199'\n",
    "            response = requests.get(url)\n",
    "            if 'response' not in response.json():\n",
    "                continue\n",
    "            user.friends = response.json()['response']['items']\n",
    "            for friend in response.json()['response']['items']:\n",
    "                if all(person.vk_id != friend for person in users):\n",
    "                    new_users.append(vk_user(friend, None))\n",
    "    users.extend(new_users)\n"
   ]
  },
  {
   "cell_type": "markdown",
   "metadata": {},
   "source": [
    "Поскольку накладно каждый раз обращаться к VK API, данные будут выгружены один раз и скомпанованы в CSV-файл."
   ]
  },
  {
   "cell_type": "code",
   "execution_count": 80,
   "metadata": {},
   "outputs": [],
   "source": [
    "import pandas as pd\n",
    "\n",
    "friendship_tuples = []\n",
    "\n",
    "for user in users:\n",
    "    if user.friends == None:\n",
    "        continue\n",
    "    for friend in user.friends:\n",
    "        if (friend, user.vk_id) not in friendship_tuples:\n",
    "            friendship_tuples.append((user.vk_id, friend))\n",
    "\n",
    "\n",
    "df = pd.DataFrame(friendship_tuples, columns=['user1', 'user2'])\n",
    "df.to_csv('friendships.csv', index=False)"
   ]
  }
 ],
 "metadata": {
  "kernelspec": {
   "display_name": "Python 3",
   "language": "python",
   "name": "python3"
  },
  "language_info": {
   "codemirror_mode": {
    "name": "ipython",
    "version": 3
   },
   "file_extension": ".py",
   "mimetype": "text/x-python",
   "name": "python",
   "nbconvert_exporter": "python",
   "pygments_lexer": "ipython3",
   "version": "3.11.9"
  }
 },
 "nbformat": 4,
 "nbformat_minor": 2
}
